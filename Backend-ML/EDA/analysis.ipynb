{
 "cells": [
  {
   "cell_type": "code",
   "execution_count": 4,
   "metadata": {},
   "outputs": [
    {
     "name": "stdout",
     "output_type": "stream",
     "text": [
      "^C\n"
     ]
    },
    {
     "name": "stdout",
     "output_type": "stream",
     "text": [
      "Collecting pandas\n",
      "  Obtaining dependency information for pandas from https://files.pythonhosted.org/packages/29/d4/1244ab8edf173a10fd601f7e13b9566c1b525c4f365d6bee918e68381889/pandas-2.2.3-cp312-cp312-win_amd64.whl.metadata\n",
      "  Using cached pandas-2.2.3-cp312-cp312-win_amd64.whl.metadata (19 kB)\n",
      "Collecting numpy>=1.26.0 (from pandas)\n",
      "  Obtaining dependency information for numpy>=1.26.0 from https://files.pythonhosted.org/packages/46/69/8c4f928741c2a8efa255fdc7e9097527c6dc4e4df147e3cadc5d9357ce85/numpy-2.2.4-cp312-cp312-win_amd64.whl.metadata\n",
      "  Downloading numpy-2.2.4-cp312-cp312-win_amd64.whl.metadata (60 kB)\n",
      "     ---------------------------------------- 0.0/60.8 kB ? eta -:--:--\n",
      "     ------ --------------------------------- 10.2/60.8 kB ? eta -:--:--\n",
      "     ------------ ------------------------- 20.5/60.8 kB 217.9 kB/s eta 0:00:01\n",
      "     ------------------------------- ------ 51.2/60.8 kB 372.4 kB/s eta 0:00:01\n",
      "     -------------------------------------- 60.8/60.8 kB 404.8 kB/s eta 0:00:00\n",
      "Requirement already satisfied: python-dateutil>=2.8.2 in c:\\users\\alka\\documents\\weatherwarden---weather-impact-predictor\\myenv\\lib\\site-packages (from pandas) (2.9.0.post0)\n",
      "Collecting pytz>=2020.1 (from pandas)\n",
      "  Obtaining dependency information for pytz>=2020.1 from https://files.pythonhosted.org/packages/81/c4/34e93fe5f5429d7570ec1fa436f1986fb1f00c3e0f43a589fe2bbcd22c3f/pytz-2025.2-py2.py3-none-any.whl.metadata\n",
      "  Downloading pytz-2025.2-py2.py3-none-any.whl.metadata (22 kB)\n",
      "Collecting tzdata>=2022.7 (from pandas)\n",
      "  Obtaining dependency information for tzdata>=2022.7 from https://files.pythonhosted.org/packages/5c/23/c7abc0ca0a1526a0774eca151daeb8de62ec457e77262b66b359c3c7679e/tzdata-2025.2-py2.py3-none-any.whl.metadata\n",
      "  Downloading tzdata-2025.2-py2.py3-none-any.whl.metadata (1.4 kB)\n",
      "Requirement already satisfied: six>=1.5 in c:\\users\\alka\\documents\\weatherwarden---weather-impact-predictor\\myenv\\lib\\site-packages (from python-dateutil>=2.8.2->pandas) (1.17.0)\n",
      "Using cached pandas-2.2.3-cp312-cp312-win_amd64.whl (11.5 MB)\n",
      "Downloading numpy-2.2.4-cp312-cp312-win_amd64.whl (12.6 MB)\n",
      "   ---------------------------------------- 0.0/12.6 MB ? eta -:--:--\n",
      "   ---------------------------------------- 0.1/12.6 MB 3.4 MB/s eta 0:00:04\n",
      "    --------------------------------------- 0.3/12.6 MB 3.4 MB/s eta 0:00:04\n",
      "   - -------------------------------------- 0.6/12.6 MB 4.6 MB/s eta 0:00:03\n",
      "   -- ------------------------------------- 0.9/12.6 MB 5.3 MB/s eta 0:00:03\n",
      "   ---- ----------------------------------- 1.3/12.6 MB 5.8 MB/s eta 0:00:02\n",
      "   ----- ---------------------------------- 1.6/12.6 MB 6.1 MB/s eta 0:00:02\n",
      "   ------ --------------------------------- 1.9/12.6 MB 6.2 MB/s eta 0:00:02\n",
      "   ------- -------------------------------- 2.3/12.6 MB 6.3 MB/s eta 0:00:02\n",
      "   -------- ------------------------------- 2.6/12.6 MB 6.5 MB/s eta 0:00:02\n",
      "   --------- ------------------------------ 2.9/12.6 MB 6.5 MB/s eta 0:00:02\n",
      "   ---------- ----------------------------- 3.3/12.6 MB 6.6 MB/s eta 0:00:02\n",
      "   ----------- ---------------------------- 3.6/12.6 MB 6.7 MB/s eta 0:00:02\n",
      "   ------------ --------------------------- 4.0/12.6 MB 6.7 MB/s eta 0:00:02\n",
      "   ------------- -------------------------- 4.3/12.6 MB 6.7 MB/s eta 0:00:02\n",
      "   -------------- ------------------------- 4.5/12.6 MB 6.7 MB/s eta 0:00:02\n",
      "   -------------- ------------------------- 4.6/12.6 MB 6.2 MB/s eta 0:00:02\n",
      "   ---------------- ----------------------- 5.1/12.6 MB 6.7 MB/s eta 0:00:02\n",
      "   ----------------- ---------------------- 5.4/12.6 MB 6.5 MB/s eta 0:00:02\n",
      "   ------------------ --------------------- 5.8/12.6 MB 6.6 MB/s eta 0:00:02\n",
      "   ------------------- -------------------- 6.1/12.6 MB 6.6 MB/s eta 0:00:01\n",
      "   -------------------- ------------------- 6.4/12.6 MB 6.6 MB/s eta 0:00:01\n",
      "   --------------------- ------------------ 6.8/12.6 MB 6.7 MB/s eta 0:00:01\n",
      "   ---------------------- ----------------- 7.1/12.6 MB 6.7 MB/s eta 0:00:01\n",
      "   ----------------------- ---------------- 7.5/12.6 MB 6.7 MB/s eta 0:00:01\n",
      "   ------------------------ --------------- 7.8/12.6 MB 6.8 MB/s eta 0:00:01\n",
      "   ------------------------- -------------- 8.2/12.6 MB 6.8 MB/s eta 0:00:01\n",
      "   -------------------------- ------------- 8.5/12.6 MB 6.8 MB/s eta 0:00:01\n",
      "   --------------------------- ------------ 8.8/12.6 MB 6.8 MB/s eta 0:00:01\n",
      "   ----------------------------- ---------- 9.2/12.6 MB 6.8 MB/s eta 0:00:01\n",
      "   ------------------------------ --------- 9.5/12.6 MB 6.9 MB/s eta 0:00:01\n",
      "   ------------------------------- -------- 9.9/12.6 MB 6.8 MB/s eta 0:00:01\n",
      "   -------------------------------- ------- 10.2/12.6 MB 6.8 MB/s eta 0:00:01\n",
      "   --------------------------------- ------ 10.6/12.6 MB 7.0 MB/s eta 0:00:01\n",
      "   ---------------------------------- ----- 10.9/12.6 MB 7.1 MB/s eta 0:00:01\n",
      "   ----------------------------------- ---- 11.2/12.6 MB 7.1 MB/s eta 0:00:01\n",
      "   ------------------------------------ --- 11.6/12.6 MB 7.1 MB/s eta 0:00:01\n",
      "   ------------------------------------- -- 11.9/12.6 MB 7.0 MB/s eta 0:00:01\n",
      "   -------------------------------------- - 12.3/12.6 MB 7.0 MB/s eta 0:00:01\n",
      "   ---------------------------------------  12.6/12.6 MB 7.1 MB/s eta 0:00:01\n",
      "   ---------------------------------------  12.6/12.6 MB 7.1 MB/s eta 0:00:01\n",
      "   ---------------------------------------  12.6/12.6 MB 7.1 MB/s eta 0:00:01\n",
      "   ---------------------------------------- 12.6/12.6 MB 6.7 MB/s eta 0:00:00\n",
      "Downloading pytz-2025.2-py2.py3-none-any.whl (509 kB)\n",
      "   ---------------------------------------- 0.0/509.2 kB ? eta -:--:--\n",
      "   ---------------------- ----------------- 286.7/509.2 kB 8.9 MB/s eta 0:00:01\n",
      "   ---------------------------------------- 509.2/509.2 kB 6.4 MB/s eta 0:00:00\n",
      "Downloading tzdata-2025.2-py2.py3-none-any.whl (347 kB)\n",
      "   ---------------------------------------- 0.0/347.8 kB ? eta -:--:--\n",
      "   -------------------------------- ------- 286.7/347.8 kB 8.9 MB/s eta 0:00:01\n",
      "   ---------------------------------------- 347.8/347.8 kB 7.2 MB/s eta 0:00:00\n",
      "Installing collected packages: pytz, tzdata, numpy, pandas\n",
      "Successfully installed numpy-2.2.4 pandas-2.2.3 pytz-2025.2 tzdata-2025.2\n"
     ]
    },
    {
     "name": "stderr",
     "output_type": "stream",
     "text": [
      "\n",
      "[notice] A new release of pip is available: 23.2.1 -> 25.0.1\n",
      "[notice] To update, run: python.exe -m pip install --upgrade pip\n"
     ]
    }
   ],
   "source": [
    "!pip install pandas"
   ]
  },
  {
   "cell_type": "code",
   "execution_count": 1,
   "metadata": {},
   "outputs": [],
   "source": [
    "import pandas as pd\n",
    "import numpy as np"
   ]
  },
  {
   "cell_type": "code",
   "execution_count": 2,
   "metadata": {},
   "outputs": [
    {
     "data": {
      "text/html": [
       "<div>\n",
       "<style scoped>\n",
       "    .dataframe tbody tr th:only-of-type {\n",
       "        vertical-align: middle;\n",
       "    }\n",
       "\n",
       "    .dataframe tbody tr th {\n",
       "        vertical-align: top;\n",
       "    }\n",
       "\n",
       "    .dataframe thead th {\n",
       "        text-align: right;\n",
       "    }\n",
       "</style>\n",
       "<table border=\"1\" class=\"dataframe\">\n",
       "  <thead>\n",
       "    <tr style=\"text-align: right;\">\n",
       "      <th></th>\n",
       "      <th>date</th>\n",
       "      <th>temperature</th>\n",
       "      <th>rainfall</th>\n",
       "      <th>humidity</th>\n",
       "      <th>wind_speed</th>\n",
       "      <th>pressure</th>\n",
       "      <th>visibility</th>\n",
       "      <th>weather_condition</th>\n",
       "      <th>severity</th>\n",
       "      <th>travel_disruption</th>\n",
       "      <th>road_condition</th>\n",
       "      <th>traffic_density</th>\n",
       "    </tr>\n",
       "  </thead>\n",
       "  <tbody>\n",
       "    <tr>\n",
       "      <th>0</th>\n",
       "      <td>2023-01-01</td>\n",
       "      <td>13.5</td>\n",
       "      <td>13.5</td>\n",
       "      <td>71.7</td>\n",
       "      <td>4.1</td>\n",
       "      <td>1012.8</td>\n",
       "      <td>4.2</td>\n",
       "      <td>rain</td>\n",
       "      <td>severe</td>\n",
       "      <td>cancellation</td>\n",
       "      <td>wet</td>\n",
       "      <td>36</td>\n",
       "    </tr>\n",
       "    <tr>\n",
       "      <th>1</th>\n",
       "      <td>2023-01-02</td>\n",
       "      <td>11.7</td>\n",
       "      <td>0.6</td>\n",
       "      <td>88.4</td>\n",
       "      <td>14.7</td>\n",
       "      <td>980.7</td>\n",
       "      <td>5.8</td>\n",
       "      <td>storm</td>\n",
       "      <td>moderate</td>\n",
       "      <td>delay</td>\n",
       "      <td>flooded</td>\n",
       "      <td>49</td>\n",
       "    </tr>\n",
       "    <tr>\n",
       "      <th>2</th>\n",
       "      <td>2023-01-03</td>\n",
       "      <td>8.1</td>\n",
       "      <td>5.4</td>\n",
       "      <td>72.0</td>\n",
       "      <td>4.3</td>\n",
       "      <td>1004.0</td>\n",
       "      <td>10.4</td>\n",
       "      <td>rain</td>\n",
       "      <td>moderate</td>\n",
       "      <td>none</td>\n",
       "      <td>wet</td>\n",
       "      <td>54</td>\n",
       "    </tr>\n",
       "    <tr>\n",
       "      <th>3</th>\n",
       "      <td>2023-01-04</td>\n",
       "      <td>15.1</td>\n",
       "      <td>1.6</td>\n",
       "      <td>86.4</td>\n",
       "      <td>8.6</td>\n",
       "      <td>1012.2</td>\n",
       "      <td>13.1</td>\n",
       "      <td>rain</td>\n",
       "      <td>mild</td>\n",
       "      <td>delay</td>\n",
       "      <td>wet</td>\n",
       "      <td>38</td>\n",
       "    </tr>\n",
       "    <tr>\n",
       "      <th>4</th>\n",
       "      <td>2023-01-05</td>\n",
       "      <td>3.9</td>\n",
       "      <td>2.7</td>\n",
       "      <td>78.4</td>\n",
       "      <td>6.6</td>\n",
       "      <td>998.7</td>\n",
       "      <td>8.5</td>\n",
       "      <td>rain</td>\n",
       "      <td>mild</td>\n",
       "      <td>delay</td>\n",
       "      <td>wet</td>\n",
       "      <td>56</td>\n",
       "    </tr>\n",
       "  </tbody>\n",
       "</table>\n",
       "</div>"
      ],
      "text/plain": [
       "         date  temperature  rainfall  humidity  wind_speed  pressure  \\\n",
       "0  2023-01-01         13.5      13.5      71.7         4.1    1012.8   \n",
       "1  2023-01-02         11.7       0.6      88.4        14.7     980.7   \n",
       "2  2023-01-03          8.1       5.4      72.0         4.3    1004.0   \n",
       "3  2023-01-04         15.1       1.6      86.4         8.6    1012.2   \n",
       "4  2023-01-05          3.9       2.7      78.4         6.6     998.7   \n",
       "\n",
       "   visibility weather_condition  severity travel_disruption road_condition  \\\n",
       "0         4.2              rain    severe      cancellation            wet   \n",
       "1         5.8             storm  moderate             delay        flooded   \n",
       "2        10.4              rain  moderate              none            wet   \n",
       "3        13.1              rain      mild             delay            wet   \n",
       "4         8.5              rain      mild             delay            wet   \n",
       "\n",
       "   traffic_density  \n",
       "0               36  \n",
       "1               49  \n",
       "2               54  \n",
       "3               38  \n",
       "4               56  "
      ]
     },
     "execution_count": 2,
     "metadata": {},
     "output_type": "execute_result"
    }
   ],
   "source": [
    "df = pd.read_csv(r\"C:\\Users\\Alka\\Documents\\WeatherWarden---Weather-Impact-Predictor\\Backend-ML\\src\\Data_gathering\\weather_data1.csv\")\n",
    "df.head()"
   ]
  },
  {
   "cell_type": "code",
   "execution_count": 3,
   "metadata": {},
   "outputs": [
    {
     "data": {
      "text/plain": [
       "date                 0\n",
       "temperature          0\n",
       "rainfall             0\n",
       "humidity             0\n",
       "wind_speed           0\n",
       "pressure             0\n",
       "visibility           0\n",
       "weather_condition    0\n",
       "severity             0\n",
       "travel_disruption    0\n",
       "road_condition       0\n",
       "traffic_density      0\n",
       "dtype: int64"
      ]
     },
     "execution_count": 3,
     "metadata": {},
     "output_type": "execute_result"
    }
   ],
   "source": [
    "df.isnull().sum()"
   ]
  },
  {
   "cell_type": "code",
   "execution_count": 3,
   "metadata": {},
   "outputs": [
    {
     "data": {
      "text/plain": [
       "travel_disruption\n",
       "delay           532\n",
       "none            511\n",
       "cancellation    157\n",
       "Name: count, dtype: int64"
      ]
     },
     "execution_count": 3,
     "metadata": {},
     "output_type": "execute_result"
    }
   ],
   "source": [
    "df.travel_disruption.value_counts()"
   ]
  },
  {
   "cell_type": "code",
   "execution_count": 5,
   "metadata": {},
   "outputs": [],
   "source": [
    "df['date'] = pd.to_datetime(df['date'])\n",
    "df['day_of_year'] = df['date'].dt.dayofyear\n",
    "df['month'] = df['date'].dt.month\n",
    "df['day_of_week'] = df['date'].dt.dayofweek\n",
    "df['is_weekend'] = df['day_of_week'].isin([5, 6]).astype(int)\n",
    "    \n",
    "df['month_sin'] = np.sin(2 * np.pi * df['month']/12)\n",
    "df['month_cos'] = np.cos(2 * np.pi * df['month']/12)\n",
    "df['day_sin'] = np.sin(2 * np.pi * df['day_of_year']/365)\n",
    "df['day_cos'] = np.cos(2 * np.pi * df['day_of_year']/365)"
   ]
  },
  {
   "cell_type": "code",
   "execution_count": 6,
   "metadata": {},
   "outputs": [],
   "source": [
    "from sklearn.model_selection import train_test_split\n",
    "from sklearn.ensemble import RandomForestClassifier\n",
    "from sklearn.metrics import classification_report\n",
    "from sklearn.preprocessing import LabelEncoder"
   ]
  },
  {
   "cell_type": "code",
   "execution_count": 7,
   "metadata": {},
   "outputs": [
    {
     "name": "stdout",
     "output_type": "stream",
     "text": [
      "              precision    recall  f1-score   support\n",
      "\n",
      "      cloudy       0.22      0.24      0.23        46\n",
      "         fog       0.09      0.05      0.07        19\n",
      "        rain       0.26      0.25      0.26        72\n",
      "       storm       0.00      0.00      0.00         8\n",
      "       sunny       0.40      0.45      0.42        95\n",
      "\n",
      "    accuracy                           0.30       240\n",
      "   macro avg       0.20      0.20      0.20       240\n",
      "weighted avg       0.29      0.30      0.29       240\n",
      "\n"
     ]
    }
   ],
   "source": [
    "features = ['month_sin', 'month_cos', 'day_sin', 'day_cos']\n",
    "X = df[features]\n",
    "\n",
    "# Encode target labels\n",
    "le = LabelEncoder()\n",
    "y = le.fit_transform(df['weather_condition'])\n",
    "\n",
    "# Train/test split\n",
    "X_train, X_test, y_train, y_test = train_test_split(X, y, test_size=0.2, random_state=42)\n",
    "\n",
    "# Model training\n",
    "clf = RandomForestClassifier(random_state=42)\n",
    "clf.fit(X_train, y_train)\n",
    "\n",
    "# Prediction and Evaluation\n",
    "y_pred = clf.predict(X_test)\n",
    "print(classification_report(y_test, y_pred, target_names=le.classes_))"
   ]
  },
  {
   "cell_type": "code",
   "execution_count": 8,
   "metadata": {},
   "outputs": [
    {
     "name": "stdout",
     "output_type": "stream",
     "text": [
      "✅ Evaluation Metrics:\n",
      "Accuracy       : 0.30\n",
      "Precision (macro): 0.20\n",
      "Recall (macro)   : 0.20\n",
      "F1 Score (macro) : 0.20\n",
      "\n",
      "📊 Confusion Matrix:\n",
      "[[11  3 11  0 21]\n",
      " [ 5  1  4  0  9]\n",
      " [15  4 18  2 33]\n",
      " [ 1  0  5  0  2]\n",
      " [17  3 30  2 43]]\n",
      "\n",
      "📄 Classification Report:\n",
      "              precision    recall  f1-score   support\n",
      "\n",
      "      cloudy       0.22      0.24      0.23        46\n",
      "         fog       0.09      0.05      0.07        19\n",
      "        rain       0.26      0.25      0.26        72\n",
      "       storm       0.00      0.00      0.00         8\n",
      "       sunny       0.40      0.45      0.42        95\n",
      "\n",
      "    accuracy                           0.30       240\n",
      "   macro avg       0.20      0.20      0.20       240\n",
      "weighted avg       0.29      0.30      0.29       240\n",
      "\n"
     ]
    }
   ],
   "source": [
    "from sklearn.metrics import accuracy_score, precision_score, recall_score, f1_score, confusion_matrix, classification_report\n",
    "\n",
    "# Predict on test set\n",
    "y_pred = clf.predict(X_test)\n",
    "\n",
    "# Accuracy\n",
    "accuracy = accuracy_score(y_test, y_pred)\n",
    "\n",
    "# Precision, Recall, F1 Score (macro handles class imbalance better)\n",
    "precision = precision_score(y_test, y_pred, average='macro')\n",
    "recall = recall_score(y_test, y_pred, average='macro')\n",
    "f1 = f1_score(y_test, y_pred, average='macro')\n",
    "\n",
    "# Confusion Matrix\n",
    "cm = confusion_matrix(y_test, y_pred)\n",
    "\n",
    "# Classification Report\n",
    "report = classification_report(y_test, y_pred, target_names=le.classes_)\n",
    "\n",
    "# Print results\n",
    "print(\"✅ Evaluation Metrics:\")\n",
    "print(f\"Accuracy       : {accuracy:.2f}\")\n",
    "print(f\"Precision (macro): {precision:.2f}\")\n",
    "print(f\"Recall (macro)   : {recall:.2f}\")\n",
    "print(f\"F1 Score (macro) : {f1:.2f}\")\n",
    "print(\"\\n📊 Confusion Matrix:\")\n",
    "print(cm)\n",
    "print(\"\\n📄 Classification Report:\")\n",
    "print(report)\n"
   ]
  },
  {
   "cell_type": "code",
   "execution_count": null,
   "metadata": {},
   "outputs": [],
   "source": []
  }
 ],
 "metadata": {
  "kernelspec": {
   "display_name": "myenv",
   "language": "python",
   "name": "python3"
  },
  "language_info": {
   "codemirror_mode": {
    "name": "ipython",
    "version": 3
   },
   "file_extension": ".py",
   "mimetype": "text/x-python",
   "name": "python",
   "nbconvert_exporter": "python",
   "pygments_lexer": "ipython3",
   "version": "3.12.0"
  }
 },
 "nbformat": 4,
 "nbformat_minor": 2
}
